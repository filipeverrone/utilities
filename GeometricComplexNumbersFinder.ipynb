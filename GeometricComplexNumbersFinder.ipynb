{
  "nbformat": 4,
  "nbformat_minor": 0,
  "metadata": {
    "colab": {
      "provenance": [],
      "authorship_tag": "ABX9TyMaUYxgpIt5HyaZu4A7T6s5",
      "include_colab_link": true
    },
    "kernelspec": {
      "name": "python3",
      "display_name": "Python 3"
    },
    "language_info": {
      "name": "python"
    }
  },
  "cells": [
    {
      "cell_type": "markdown",
      "metadata": {
        "id": "view-in-github",
        "colab_type": "text"
      },
      "source": [
        "<a href=\"https://colab.research.google.com/github/filipeverrone/utilities/blob/main/GeometricComplexNumbersFinder.ipynb\" target=\"_parent\"><img src=\"https://colab.research.google.com/assets/colab-badge.svg\" alt=\"Open In Colab\"/></a>"
      ]
    },
    {
      "cell_type": "code",
      "source": [
        "def is_number(value): return type(value) in [type(0), type(1.)]"
      ],
      "metadata": {
        "id": "KTrLnVrW0cu3"
      },
      "execution_count": 1,
      "outputs": []
    },
    {
      "cell_type": "code",
      "execution_count": 47,
      "metadata": {
        "id": "mr75iiZOuyuM"
      },
      "outputs": [],
      "source": [
        "class Matrix:\n",
        "\n",
        "    def __init__(self, rows: list):\n",
        "        lines = []\n",
        "        if len(rows):\n",
        "            lines = rows\n",
        "\n",
        "        self.matrix = lines\n",
        "        self.nlines = len(lines)\n",
        "        self.ncolumns = len(lines[0])\n",
        "\n",
        "    def verify_square(self):\n",
        "        if self.nlines != self.ncolumns:\n",
        "            raise Exception('this matrix is not a square')\n",
        "\n",
        "    def transpose(self, save=False):\n",
        "        result = [[None] * self.nlines for column in range(self.ncolumns)]\n",
        "        for line in range(self.nlines):\n",
        "            for column in range(self.ncolumns):\n",
        "                result[column][line] = self.matrix[line][column]\n",
        "        if save: self.matrix = result\n",
        "        return Matrix(result)\n",
        "\n",
        "    def const_multiply(self, const):\n",
        "        result = [[None] * self.ncolumns for line in range(self.nlines)]\n",
        "        for line in range(self.nlines):\n",
        "            for column in range(self.ncolumns):\n",
        "                result[line][column] = self.matrix[line][column] * const\n",
        "        return Matrix(result)\n",
        "\n",
        "    def __rmul__(self, m2): return self * m2\n",
        "\n",
        "    def __mul__(self, m2):\n",
        "        if is_number(m2): return self.const_multiply(m2)\n",
        "\n",
        "        if self.ncolumns != m2.nlines:\n",
        "            raise Exception('m2 is not compatible with this matrix!')\n",
        "        result = []\n",
        "        for line in range(self.nlines):\n",
        "            row = []\n",
        "            for result_line in range(self.nlines):\n",
        "                item = 0\n",
        "                for column in range(self.ncolumns):\n",
        "                    item += self.matrix[line][column] * \\\n",
        "                            m2.matrix[column][result_line]\n",
        "                row.append(item)\n",
        "            result.append(row)\n",
        "        return Matrix(result)\n",
        "\n",
        "    def __pow__(self, n):\n",
        "        self.verify_square()\n",
        "\n",
        "        if n == -1: return self.inverse()        \n",
        "\n",
        "        response = self\n",
        "        for i in range(n - 1):\n",
        "            response *= self\n",
        "\n",
        "        return response\n",
        "\n",
        "    def __str__(self):\n",
        "        response = ''\n",
        "\n",
        "        for line in range(self.nlines):\n",
        "            for column in range(self.ncolumns):\n",
        "                  if column == 0: response += '[ '\n",
        "                  is_last = column + 1 == self.ncolumns\n",
        "                  last_chars = '\\t' if not is_last else ' ]\\n'\n",
        "                  response += f'{self.matrix[line][column]}{last_chars}'\n",
        "\n",
        "        return response\n",
        "\n",
        "    def __add__(self, m2):\n",
        "        if self.nlines != m2.nlines or self.ncolumns != m2.ncolumns:\n",
        "            raise Exception('m2 dimensions is not compatible with this matrix!')\n",
        "        new_matrix = [[None] * self.ncolumns for line in range(self.nlines)]\n",
        "        for line in range(self.nlines):\n",
        "            for column in range(self.ncolumns):\n",
        "                new_matrix[line][column] = self.matrix[line][column] + \\\n",
        "                                            m2.matrix[line][column]\n",
        "        return Matrix(new_matrix)\n",
        "\n",
        "    def __radd__(self, m2): return self + m2\n",
        "\n",
        "    def __sub__(self, m2): return self + (-1) * m2\n",
        "\n",
        "    def __rsub__(self, m2): return (-1) * self + m2\n",
        "\n",
        "    def inverse(self):\n",
        "        determinant = self.determinant()\n",
        "        if determinant == 0: raise Exception('the determinant is zero!')\n",
        "        if type(determinant) != type(0): raise Exception('det is not a number!')\n",
        "        return (1 / determinant) * self.adjunct().transpose()\n",
        "\n",
        "    def determinant(self):\n",
        "        self.verify_square()\n",
        "        response = 0\n",
        "\n",
        "        if self.nlines == 2:\n",
        "            main_product = self.get(0, 0) * self.get(1, 1)\n",
        "            secondary_product = self.get(1, 0) * self.get(0, 1)\n",
        "            return main_product - secondary_product\n",
        "\n",
        "        for line in range(self.nlines):\n",
        "            product = 1\n",
        "            for column in range(self.ncolumns):\n",
        "                product *= self.get(line + column, column)\n",
        "            response += product\n",
        "\n",
        "        for line in range(self.nlines - 1, -1, -1):\n",
        "            product = 1\n",
        "            for column in range(self.ncolumns - 1, -1, -1):\n",
        "                product *= self.get(line - column, column)\n",
        "            response -= product\n",
        "\n",
        "        return response\n",
        "\n",
        "    def get(self, line, column):\n",
        "        x, y = line, column\n",
        "        if line + 1 > self.nlines: x = line % self.nlines\n",
        "        if column + 1 > self.ncolumns: y = column % self.ncolumns\n",
        "        return self.matrix[x][y]\n",
        "\n",
        "    def matrix_except(self, line = 0, column = 0):\n",
        "        result = []\n",
        "        for mline in range(self.nlines):\n",
        "            if mline != line:\n",
        "                line_result = []\n",
        "                for mcolumn in range(self.ncolumns):\n",
        "                    if mcolumn != column:\n",
        "                        line_result.append(self.get(mline, mcolumn))\n",
        "                result.append(line_result)\n",
        "        return Matrix(result)\n",
        "\n",
        "    def adjunct(self):\n",
        "        self.verify_square()\n",
        "        if self.nlines == 2:\n",
        "            return Matrix([\n",
        "                [self.matrix[1][1], - self.matrix[1][0]],\n",
        "                [- self.matrix[0][1], self.matrix[0][0]],\n",
        "            ])\n",
        "        adjunct = [[None] * self.ncolumns for line in range(self.nlines)]\n",
        "        for line in range(self.nlines):\n",
        "            for column in range(self.ncolumns):\n",
        "                item_coefficient = (-1) ** (line + column)\n",
        "                pivot_matrix = self.matrix_except(line, column)\n",
        "                item = item_coefficient * pivot_matrix.determinant()\n",
        "                adjunct[line][column] = item\n",
        "        return Matrix(adjunct)\n"
      ]
    },
    {
      "cell_type": "code",
      "source": [
        "a = Matrix([\n",
        "    [1, 1],\n",
        "    [0, 1]\n",
        "])"
      ],
      "metadata": {
        "id": "eU6SkXZQ5joh"
      },
      "execution_count": 48,
      "outputs": []
    },
    {
      "cell_type": "code",
      "source": [
        "b = Matrix([\n",
        "    [1, 0],\n",
        "    [0, 1],\n",
        "    [1, 0]\n",
        "])"
      ],
      "metadata": {
        "id": "i0DrGE419MNy"
      },
      "execution_count": 49,
      "outputs": []
    },
    {
      "cell_type": "code",
      "source": [
        "print((b * b.transpose()))"
      ],
      "metadata": {
        "colab": {
          "base_uri": "https://localhost:8080/"
        },
        "id": "tsoNmJfd5sLH",
        "outputId": "c8d2c57b-67f0-4fbd-89a8-8a2b0e19b7eb"
      },
      "execution_count": 50,
      "outputs": [
        {
          "output_type": "stream",
          "name": "stdout",
          "text": [
            "[ 1\t0\t1 ]\n",
            "[ 0\t1\t0 ]\n",
            "[ 1\t0\t1 ]\n",
            "\n"
          ]
        }
      ]
    },
    {
      "cell_type": "code",
      "source": [
        "print(a * 2 + a)"
      ],
      "metadata": {
        "id": "KpgD0zqa5uOZ",
        "colab": {
          "base_uri": "https://localhost:8080/"
        },
        "outputId": "53246496-1d99-4e69-fd33-8b92322eb6e9"
      },
      "execution_count": 51,
      "outputs": [
        {
          "output_type": "stream",
          "name": "stdout",
          "text": [
            "[ 3\t3 ]\n",
            "[ 0\t3 ]\n",
            "\n"
          ]
        }
      ]
    },
    {
      "cell_type": "code",
      "source": [
        "a.determinant()"
      ],
      "metadata": {
        "colab": {
          "base_uri": "https://localhost:8080/"
        },
        "id": "4a7iEIEbzfVx",
        "outputId": "d9e6ee55-f2c7-4e43-ea0b-2dd753729a7c"
      },
      "execution_count": 52,
      "outputs": [
        {
          "output_type": "execute_result",
          "data": {
            "text/plain": [
              "1"
            ]
          },
          "metadata": {},
          "execution_count": 52
        }
      ]
    },
    {
      "cell_type": "code",
      "source": [
        "(Matrix([\n",
        "    [1, 1, 1],\n",
        "    [0, 0, 1],\n",
        "    [1, 0, 1],\n",
        "]) + (b * b.transpose())).determinant()"
      ],
      "metadata": {
        "colab": {
          "base_uri": "https://localhost:8080/"
        },
        "id": "9UXyoMWy6tmb",
        "outputId": "64c4d618-96a2-4644-e180-fc3e8e87eeb3"
      },
      "execution_count": 53,
      "outputs": [
        {
          "output_type": "execute_result",
          "data": {
            "text/plain": [
              "2"
            ]
          },
          "metadata": {},
          "execution_count": 53
        }
      ]
    },
    {
      "cell_type": "code",
      "source": [
        "Matrix([\n",
        "    [1, 1, 1],\n",
        "    [0, 0, 1],\n",
        "    [1, 0, 1],\n",
        "]).determinant()"
      ],
      "metadata": {
        "colab": {
          "base_uri": "https://localhost:8080/"
        },
        "id": "cmF5XQM37wd4",
        "outputId": "d794239c-c108-456a-922a-3d997801de88"
      },
      "execution_count": 54,
      "outputs": [
        {
          "output_type": "execute_result",
          "data": {
            "text/plain": [
              "1"
            ]
          },
          "metadata": {},
          "execution_count": 54
        }
      ]
    },
    {
      "cell_type": "code",
      "source": [
        "print(a.inverse())"
      ],
      "metadata": {
        "id": "2-V1KTzN8-5n",
        "colab": {
          "base_uri": "https://localhost:8080/"
        },
        "outputId": "5df54ffd-3817-47fa-a0a3-84c665d551a7"
      },
      "execution_count": 55,
      "outputs": [
        {
          "output_type": "stream",
          "name": "stdout",
          "text": [
            "[ 1.0\t-1.0 ]\n",
            "[ 0.0\t1.0 ]\n",
            "\n"
          ]
        }
      ]
    },
    {
      "cell_type": "code",
      "source": [
        "print(a.inverse() * a)"
      ],
      "metadata": {
        "colab": {
          "base_uri": "https://localhost:8080/"
        },
        "id": "fQ8BarwuVxs6",
        "outputId": "b3861d90-f9ff-4a0f-e9bb-d05f610b33c7"
      },
      "execution_count": 56,
      "outputs": [
        {
          "output_type": "stream",
          "name": "stdout",
          "text": [
            "[ 1.0\t0.0 ]\n",
            "[ 0.0\t1.0 ]\n",
            "\n"
          ]
        }
      ]
    },
    {
      "cell_type": "code",
      "source": [
        "c = Matrix([\n",
        "    [1, 2, 0],\n",
        "    [2, 2, 1],\n",
        "    [1, 1, 1],\n",
        "])"
      ],
      "metadata": {
        "id": "0vidvAzjciOA"
      },
      "execution_count": 57,
      "outputs": []
    },
    {
      "cell_type": "code",
      "source": [
        "print(c)"
      ],
      "metadata": {
        "colab": {
          "base_uri": "https://localhost:8080/"
        },
        "id": "a3YYVPs6dDu4",
        "outputId": "f7bec8bf-333e-48e6-ec32-834e9ed93b19"
      },
      "execution_count": 58,
      "outputs": [
        {
          "output_type": "stream",
          "name": "stdout",
          "text": [
            "[ 1\t2\t0 ]\n",
            "[ 2\t2\t1 ]\n",
            "[ 1\t1\t1 ]\n",
            "\n"
          ]
        }
      ]
    },
    {
      "cell_type": "code",
      "source": [
        "c.determinant()"
      ],
      "metadata": {
        "colab": {
          "base_uri": "https://localhost:8080/"
        },
        "id": "mydOBPQmdL9d",
        "outputId": "c248f728-193d-471e-8f3d-b1522f1483c0"
      },
      "execution_count": 59,
      "outputs": [
        {
          "output_type": "execute_result",
          "data": {
            "text/plain": [
              "-1"
            ]
          },
          "metadata": {},
          "execution_count": 59
        }
      ]
    },
    {
      "cell_type": "code",
      "source": [
        "print(c.inverse())"
      ],
      "metadata": {
        "colab": {
          "base_uri": "https://localhost:8080/"
        },
        "id": "zCmKPbfVdPCj",
        "outputId": "1a9e8e41-c911-4b2f-867f-290955e4fe64"
      },
      "execution_count": 60,
      "outputs": [
        {
          "output_type": "stream",
          "name": "stdout",
          "text": [
            "[ -1.0\t2.0\t-2.0 ]\n",
            "[ 1.0\t-1.0\t1.0 ]\n",
            "[ -0.0\t-1.0\t2.0 ]\n",
            "\n"
          ]
        }
      ]
    },
    {
      "cell_type": "code",
      "source": [
        "print(c * c.inverse())"
      ],
      "metadata": {
        "colab": {
          "base_uri": "https://localhost:8080/"
        },
        "id": "m0a2ALlGd4uW",
        "outputId": "82d8b38a-475e-4515-a480-72ec29a1573e"
      },
      "execution_count": 61,
      "outputs": [
        {
          "output_type": "stream",
          "name": "stdout",
          "text": [
            "[ 1.0\t0.0\t0.0 ]\n",
            "[ 0.0\t1.0\t0.0 ]\n",
            "[ 0.0\t0.0\t1.0 ]\n",
            "\n"
          ]
        }
      ]
    },
    {
      "cell_type": "code",
      "source": [],
      "metadata": {
        "id": "hcHi5Xuwd-Kc"
      },
      "execution_count": 61,
      "outputs": []
    }
  ]
}